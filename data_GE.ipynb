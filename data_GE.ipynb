{
 "cells": [
  {
   "cell_type": "code",
   "execution_count": 43,
   "id": "28681ccf",
   "metadata": {},
   "outputs": [],
   "source": [
    "from urllib.request import urlopen\n",
    "import pandas as pd \n",
    "from pandas.io.json import json_normalize \n",
    "\n",
    "import numpy as np\n",
    "import pandas as pd\n",
    "\n",
    "from sklearn.model_selection import train_test_split\n",
    "from sklearn.linear_model import LinearRegression\n",
    "\n",
    "import pickle as pkl\n",
    "import joblib\n",
    "from joblib import dump, load\n",
    "import pickle\n",
    "from sklearn.metrics import mean_absolute_error, mean_squared_error, explained_variance_score"
   ]
  },
  {
   "cell_type": "code",
   "execution_count": 15,
   "id": "a59a398b",
   "metadata": {},
   "outputs": [
    {
     "data": {
      "text/html": [
       "<div>\n",
       "<style scoped>\n",
       "    .dataframe tbody tr th:only-of-type {\n",
       "        vertical-align: middle;\n",
       "    }\n",
       "\n",
       "    .dataframe tbody tr th {\n",
       "        vertical-align: top;\n",
       "    }\n",
       "\n",
       "    .dataframe thead th {\n",
       "        text-align: right;\n",
       "    }\n",
       "</style>\n",
       "<table border=\"1\" class=\"dataframe\">\n",
       "  <thead>\n",
       "    <tr style=\"text-align: right;\">\n",
       "      <th></th>\n",
       "      <th>pm10</th>\n",
       "      <th>date</th>\n",
       "      <th>temperature_2m</th>\n",
       "      <th>relativehumidity_2m</th>\n",
       "      <th>windspeed_10m</th>\n",
       "    </tr>\n",
       "  </thead>\n",
       "  <tbody>\n",
       "    <tr>\n",
       "      <th>0</th>\n",
       "      <td>21.0</td>\n",
       "      <td>2023-02-22 02:00:00</td>\n",
       "      <td>4.300000</td>\n",
       "      <td>81.000000</td>\n",
       "      <td>2.900000</td>\n",
       "    </tr>\n",
       "    <tr>\n",
       "      <th>1</th>\n",
       "      <td>30.0</td>\n",
       "      <td>2023-02-23 10:00:00</td>\n",
       "      <td>8.400000</td>\n",
       "      <td>76.000000</td>\n",
       "      <td>2.200000</td>\n",
       "    </tr>\n",
       "    <tr>\n",
       "      <th>2</th>\n",
       "      <td>5.0</td>\n",
       "      <td>2023-03-11 11:00:00</td>\n",
       "      <td>4.668407</td>\n",
       "      <td>77.814621</td>\n",
       "      <td>9.163969</td>\n",
       "    </tr>\n",
       "    <tr>\n",
       "      <th>3</th>\n",
       "      <td>42.0</td>\n",
       "      <td>2023-03-07 00:00:00</td>\n",
       "      <td>2.700000</td>\n",
       "      <td>95.000000</td>\n",
       "      <td>8.700000</td>\n",
       "    </tr>\n",
       "    <tr>\n",
       "      <th>4</th>\n",
       "      <td>22.0</td>\n",
       "      <td>2023-03-13 18:00:00</td>\n",
       "      <td>4.668407</td>\n",
       "      <td>77.814621</td>\n",
       "      <td>9.163969</td>\n",
       "    </tr>\n",
       "  </tbody>\n",
       "</table>\n",
       "</div>"
      ],
      "text/plain": [
       "   pm10                 date  temperature_2m  relativehumidity_2m  \\\n",
       "0  21.0  2023-02-22 02:00:00        4.300000            81.000000   \n",
       "1  30.0  2023-02-23 10:00:00        8.400000            76.000000   \n",
       "2   5.0  2023-03-11 11:00:00        4.668407            77.814621   \n",
       "3  42.0  2023-03-07 00:00:00        2.700000            95.000000   \n",
       "4  22.0  2023-03-13 18:00:00        4.668407            77.814621   \n",
       "\n",
       "   windspeed_10m  \n",
       "0       2.900000  \n",
       "1       2.200000  \n",
       "2       9.163969  \n",
       "3       8.700000  \n",
       "4       9.163969  "
      ]
     },
     "execution_count": 15,
     "metadata": {},
     "output_type": "execute_result"
    }
   ],
   "source": [
    "df = pd.read_csv(\"data/processed/current_data.csv\", sep = \",\", decimal = \".\")\n",
    "df.head()"
   ]
  },
  {
   "cell_type": "code",
   "execution_count": 16,
   "id": "31800d09",
   "metadata": {},
   "outputs": [
    {
     "data": {
      "text/plain": [
       "pm10                   float64\n",
       "date                    object\n",
       "temperature_2m         float64\n",
       "relativehumidity_2m    float64\n",
       "windspeed_10m          float64\n",
       "dtype: object"
      ]
     },
     "execution_count": 16,
     "metadata": {},
     "output_type": "execute_result"
    }
   ],
   "source": [
    "df.dtypes"
   ]
  },
  {
   "cell_type": "code",
   "execution_count": 17,
   "id": "c6069451",
   "metadata": {},
   "outputs": [],
   "source": [
    "n = int(len(df) * 0.1)"
   ]
  },
  {
   "cell_type": "code",
   "execution_count": 18,
   "id": "e9e857b0",
   "metadata": {},
   "outputs": [],
   "source": [
    "test_df = df.head(n)"
   ]
  },
  {
   "cell_type": "code",
   "execution_count": 19,
   "id": "ada65c13",
   "metadata": {},
   "outputs": [],
   "source": [
    "test_df.to_csv('data/processed/test.csv', index=False)"
   ]
  },
  {
   "cell_type": "code",
   "execution_count": 28,
   "id": "38cdf3cf",
   "metadata": {},
   "outputs": [],
   "source": [
    "train_df = df.tail(len(df) - n)"
   ]
  },
  {
   "cell_type": "code",
   "execution_count": 29,
   "id": "1229e80b",
   "metadata": {},
   "outputs": [],
   "source": [
    "train_df.to_csv('data/processed/train.csv', index=False)"
   ]
  },
  {
   "cell_type": "code",
   "execution_count": null,
   "id": "5aadb7a0",
   "metadata": {},
   "outputs": [],
   "source": []
  },
  {
   "cell_type": "code",
   "execution_count": 32,
   "id": "96d686c5",
   "metadata": {},
   "outputs": [],
   "source": [
    "X_train = train_df.drop('pm10', axis=1)\n",
    "X_train = train_df.drop('date', axis=1)\n",
    "y_train = train_df['pm10']"
   ]
  },
  {
   "cell_type": "code",
   "execution_count": 33,
   "id": "550ace87",
   "metadata": {},
   "outputs": [
    {
     "data": {
      "text/plain": [
       "LinearRegression()"
      ]
     },
     "execution_count": 33,
     "metadata": {},
     "output_type": "execute_result"
    }
   ],
   "source": [
    "model = LinearRegression()\n",
    "model.fit(X_train, y_train)"
   ]
  },
  {
   "cell_type": "code",
   "execution_count": 35,
   "id": "4b068d38",
   "metadata": {},
   "outputs": [],
   "source": [
    "result = model.predict(X_train)"
   ]
  },
  {
   "cell_type": "code",
   "execution_count": 36,
   "id": "9a810e0c",
   "metadata": {},
   "outputs": [
    {
     "name": "stdout",
     "output_type": "stream",
     "text": [
      "Mean_absolute_error:  1.2448064755939739e-14\n",
      "Mean_squared_error:  2.3314575190430874e-28\n",
      "Explained_variance_score:  1.0\n"
     ]
    }
   ],
   "source": [
    "mae = mean_absolute_error(y_train, result)\n",
    "mse = mean_squared_error(y_train, result)\n",
    "evs = explained_variance_score(y_train, result)\n",
    "\n",
    "print(\"Mean_absolute_error: \", mae)\n",
    "print(\"Mean_squared_error: \", mse)\n",
    "print(\"Explained_variance_score: \", evs)"
   ]
  },
  {
   "cell_type": "code",
   "execution_count": 39,
   "id": "5d670274",
   "metadata": {},
   "outputs": [],
   "source": [
    "hm = model.fit(X_train, y_train)\n",
    "pickle.dump(model, open('models/train_model', 'wb')) "
   ]
  },
  {
   "cell_type": "code",
   "execution_count": 1,
   "id": "add6cd66",
   "metadata": {},
   "outputs": [
    {
     "ename": "AttributeError",
     "evalue": "partially initialized module 'mlflow' has no attribute 'set_experiment' (most likely due to a circular import)",
     "output_type": "error",
     "traceback": [
      "\u001b[1;31m---------------------------------------------------------------------------\u001b[0m",
      "\u001b[1;31mAttributeError\u001b[0m                            Traceback (most recent call last)",
      "Input \u001b[1;32mIn [1]\u001b[0m, in \u001b[0;36m<cell line: 1>\u001b[1;34m()\u001b[0m\n\u001b[1;32m----> 1\u001b[0m \u001b[38;5;28;01mimport\u001b[39;00m \u001b[38;5;21;01mmlflow\u001b[39;00m\n",
      "File \u001b[1;32m~\\FERI\\MAG\\IIS\\Nal1\\mlflow.py:14\u001b[0m, in \u001b[0;36m<module>\u001b[1;34m\u001b[0m\n\u001b[0;32m     12\u001b[0m MLFLOW_TRACKING_URI \u001b[38;5;241m=\u001b[39m \u001b[38;5;124m\"\u001b[39m\u001b[38;5;124mhttps://dagshub.com/RantusaLara/IIS.mlflow\u001b[39m\u001b[38;5;124m\"\u001b[39m \n\u001b[0;32m     13\u001b[0m \u001b[38;5;66;03m#mlflow.set_tracking_url(MLFLOW_TRACKING_URI)\u001b[39;00m\n\u001b[1;32m---> 14\u001b[0m \u001b[43mmlflow\u001b[49m\u001b[38;5;241;43m.\u001b[39;49m\u001b[43mset_experiment\u001b[49m(\u001b[38;5;124m\"\u001b[39m\u001b[38;5;124mmy_experiment\u001b[39m\u001b[38;5;124m\"\u001b[39m) \n\u001b[0;32m     15\u001b[0m mlflow\u001b[38;5;241m.\u001b[39mautolog(exclusive\u001b[38;5;241m=\u001b[39m\u001b[38;5;28;01mFalse\u001b[39;00m)\n\u001b[0;32m     17\u001b[0m \u001b[38;5;28;01mwith\u001b[39;00m mlflow\u001b[38;5;241m.\u001b[39mstart_run():\n",
      "\u001b[1;31mAttributeError\u001b[0m: partially initialized module 'mlflow' has no attribute 'set_experiment' (most likely due to a circular import)"
     ]
    }
   ],
   "source": [
    "import mlflow"
   ]
  },
  {
   "cell_type": "code",
   "execution_count": null,
   "id": "ddd70ad9",
   "metadata": {},
   "outputs": [],
   "source": []
  }
 ],
 "metadata": {
  "kernelspec": {
   "display_name": "Python 3 (ipykernel)",
   "language": "python",
   "name": "python3"
  },
  "language_info": {
   "codemirror_mode": {
    "name": "ipython",
    "version": 3
   },
   "file_extension": ".py",
   "mimetype": "text/x-python",
   "name": "python",
   "nbconvert_exporter": "python",
   "pygments_lexer": "ipython3",
   "version": "3.9.12"
  }
 },
 "nbformat": 4,
 "nbformat_minor": 5
}
