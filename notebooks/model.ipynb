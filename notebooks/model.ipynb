{
 "cells": [
  {
   "cell_type": "code",
   "execution_count": 1,
   "metadata": {},
   "outputs": [],
   "source": [
    "import numpy as np\n",
    "import pandas as pd\n",
    "from sklearn.model_selection import train_test_split\n",
    "from sklearn.linear_model import LinearRegression\n",
    "from sklearn import metrics\n",
    "import pickle"
   ]
  },
  {
   "cell_type": "code",
   "execution_count": 2,
   "metadata": {},
   "outputs": [],
   "source": [
    "csv_dataset = '../data/processed/data_weather.csv'\n",
    "csv = pd.read_csv(csv_dataset, encoding='utf_8')\n",
    "df = pd.DataFrame(csv)"
   ]
  },
  {
   "cell_type": "code",
   "execution_count": 5,
   "metadata": {},
   "outputs": [],
   "source": [
    "df = df.drop(['date'], axis=1)"
   ]
  },
  {
   "cell_type": "code",
   "execution_count": 9,
   "metadata": {},
   "outputs": [
    {
     "data": {
      "text/html": [
       "<div>\n",
       "<style scoped>\n",
       "    .dataframe tbody tr th:only-of-type {\n",
       "        vertical-align: middle;\n",
       "    }\n",
       "\n",
       "    .dataframe tbody tr th {\n",
       "        vertical-align: top;\n",
       "    }\n",
       "\n",
       "    .dataframe thead th {\n",
       "        text-align: right;\n",
       "    }\n",
       "</style>\n",
       "<table border=\"1\" class=\"dataframe\">\n",
       "  <thead>\n",
       "    <tr style=\"text-align: right;\">\n",
       "      <th></th>\n",
       "      <th>pm10</th>\n",
       "      <th>temperature_2m</th>\n",
       "      <th>relativehumidity_2m</th>\n",
       "      <th>windspeed_10m</th>\n",
       "    </tr>\n",
       "  </thead>\n",
       "  <tbody>\n",
       "    <tr>\n",
       "      <th>0</th>\n",
       "      <td>21.0</td>\n",
       "      <td>4.300000</td>\n",
       "      <td>81.000000</td>\n",
       "      <td>2.900000</td>\n",
       "    </tr>\n",
       "    <tr>\n",
       "      <th>1</th>\n",
       "      <td>30.0</td>\n",
       "      <td>8.400000</td>\n",
       "      <td>76.000000</td>\n",
       "      <td>2.200000</td>\n",
       "    </tr>\n",
       "    <tr>\n",
       "      <th>2</th>\n",
       "      <td>5.0</td>\n",
       "      <td>4.668407</td>\n",
       "      <td>77.814621</td>\n",
       "      <td>9.163969</td>\n",
       "    </tr>\n",
       "    <tr>\n",
       "      <th>3</th>\n",
       "      <td>42.0</td>\n",
       "      <td>2.700000</td>\n",
       "      <td>95.000000</td>\n",
       "      <td>8.700000</td>\n",
       "    </tr>\n",
       "    <tr>\n",
       "      <th>4</th>\n",
       "      <td>22.0</td>\n",
       "      <td>4.668407</td>\n",
       "      <td>77.814621</td>\n",
       "      <td>9.163969</td>\n",
       "    </tr>\n",
       "    <tr>\n",
       "      <th>...</th>\n",
       "      <td>...</td>\n",
       "      <td>...</td>\n",
       "      <td>...</td>\n",
       "      <td>...</td>\n",
       "    </tr>\n",
       "    <tr>\n",
       "      <th>540</th>\n",
       "      <td>4.0</td>\n",
       "      <td>4.668407</td>\n",
       "      <td>77.814621</td>\n",
       "      <td>9.163969</td>\n",
       "    </tr>\n",
       "    <tr>\n",
       "      <th>541</th>\n",
       "      <td>6.0</td>\n",
       "      <td>4.668407</td>\n",
       "      <td>77.814621</td>\n",
       "      <td>9.163969</td>\n",
       "    </tr>\n",
       "    <tr>\n",
       "      <th>542</th>\n",
       "      <td>5.0</td>\n",
       "      <td>4.668407</td>\n",
       "      <td>77.814621</td>\n",
       "      <td>9.163969</td>\n",
       "    </tr>\n",
       "    <tr>\n",
       "      <th>543</th>\n",
       "      <td>5.0</td>\n",
       "      <td>4.668407</td>\n",
       "      <td>77.814621</td>\n",
       "      <td>9.163969</td>\n",
       "    </tr>\n",
       "    <tr>\n",
       "      <th>544</th>\n",
       "      <td>5.0</td>\n",
       "      <td>4.668407</td>\n",
       "      <td>77.814621</td>\n",
       "      <td>9.163969</td>\n",
       "    </tr>\n",
       "  </tbody>\n",
       "</table>\n",
       "<p>545 rows × 4 columns</p>\n",
       "</div>"
      ],
      "text/plain": [
       "     pm10  temperature_2m  relativehumidity_2m  windspeed_10m\n",
       "0    21.0        4.300000            81.000000       2.900000\n",
       "1    30.0        8.400000            76.000000       2.200000\n",
       "2     5.0        4.668407            77.814621       9.163969\n",
       "3    42.0        2.700000            95.000000       8.700000\n",
       "4    22.0        4.668407            77.814621       9.163969\n",
       "..    ...             ...                  ...            ...\n",
       "540   4.0        4.668407            77.814621       9.163969\n",
       "541   6.0        4.668407            77.814621       9.163969\n",
       "542   5.0        4.668407            77.814621       9.163969\n",
       "543   5.0        4.668407            77.814621       9.163969\n",
       "544   5.0        4.668407            77.814621       9.163969\n",
       "\n",
       "[545 rows x 4 columns]"
      ]
     },
     "execution_count": 9,
     "metadata": {},
     "output_type": "execute_result"
    }
   ],
   "source": [
    "df"
   ]
  },
  {
   "cell_type": "code",
   "execution_count": 6,
   "metadata": {},
   "outputs": [],
   "source": [
    "columns = np.array(df.columns)\n",
    "mask = columns != 'pm10'\n",
    "\n",
    "x_train, x_test, y_train, y_test = train_test_split(df[columns[mask]], df['pm10'], test_size=0.3, random_state=1234, shuffle=True)\n",
    "model = LinearRegression()\n",
    "hm = model.fit(x_train, y_train)\n",
    "pickle.dump(model, open('../models/linear', 'wb')) "
   ]
  },
  {
   "cell_type": "code",
   "execution_count": 7,
   "metadata": {},
   "outputs": [],
   "source": [
    "prediction = model.predict(x_train)\n",
    "\n",
    "with open('../reports/train_metrics.txt', 'w') as file:\n",
    "    file.write('MAE:' + str(metrics.mean_absolute_error(y_train, prediction, )) + '\\n')\n",
    "    file.write('MSE:' + str(metrics.mean_squared_error(y_train, prediction)) + '\\n')\n",
    "    file.write('EVS:' + str(metrics.explained_variance_score(y_train, prediction)) + '\\n')"
   ]
  },
  {
   "cell_type": "code",
   "execution_count": 8,
   "metadata": {},
   "outputs": [],
   "source": [
    "prediction = model.predict(x_test)\n",
    "\n",
    "with open('../reports/metrics.txt', 'w') as file:\n",
    "    file.write('MAE:' + str(metrics.mean_absolute_error(y_test, prediction, )) + '\\n')\n",
    "    file.write('MSE:' + str(metrics.mean_squared_error(y_test, prediction)) + '\\n')\n",
    "    file.write('EVS:' + str(metrics.explained_variance_score(y_test, prediction)) + '\\n')\n"
   ]
  }
 ],
 "metadata": {
  "kernelspec": {
   "display_name": "Python 3 (ipykernel)",
   "language": "python",
   "name": "python3"
  },
  "language_info": {
   "codemirror_mode": {
    "name": "ipython",
    "version": 3
   },
   "file_extension": ".py",
   "mimetype": "text/x-python",
   "name": "python",
   "nbconvert_exporter": "python",
   "pygments_lexer": "ipython3",
   "version": "3.9.12"
  },
  "vscode": {
   "interpreter": {
    "hash": "56332c8d5072a0e6f254166552cca61e2a4d2b6dfb035f810484f2136b82c267"
   }
  }
 },
 "nbformat": 4,
 "nbformat_minor": 2
}
